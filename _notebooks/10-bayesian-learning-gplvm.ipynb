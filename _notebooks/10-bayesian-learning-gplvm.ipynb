{
 "cells": [
  {
   "cell_type": "markdown",
   "metadata": {},
   "source": [
    "Bayesian Learning of GP-LVM\n",
    "===========================\n",
    "\n",
    "### [Neil D. Lawrence](http://inverseprobability.com), University of\n",
    "\n",
    "Cambridge"
   ]
  },
  {
   "cell_type": "markdown",
   "metadata": {},
   "source": [
    "**Abstract**: null"
   ]
  },
  {
   "cell_type": "markdown",
   "metadata": {},
   "source": [
    "$$\n",
    "\\newcommand{\\tk}[1]{}\n",
    "\\newcommand{\\Amatrix}{\\mathbf{A}}\n",
    "\\newcommand{\\KL}[2]{\\text{KL}\\left( #1\\,\\|\\,#2 \\right)}\n",
    "\\newcommand{\\Kaast}{\\kernelMatrix_{\\mathbf{ \\ast}\\mathbf{ \\ast}}}\n",
    "\\newcommand{\\Kastu}{\\kernelMatrix_{\\mathbf{ \\ast} \\inducingVector}}\n",
    "\\newcommand{\\Kff}{\\kernelMatrix_{\\mappingFunctionVector \\mappingFunctionVector}}\n",
    "\\newcommand{\\Kfu}{\\kernelMatrix_{\\mappingFunctionVector \\inducingVector}}\n",
    "\\newcommand{\\Kuast}{\\kernelMatrix_{\\inducingVector \\bf\\ast}}\n",
    "\\newcommand{\\Kuf}{\\kernelMatrix_{\\inducingVector \\mappingFunctionVector}}\n",
    "\\newcommand{\\Kuu}{\\kernelMatrix_{\\inducingVector \\inducingVector}}\n",
    "\\newcommand{\\Kuui}{\\Kuu^{-1}}\n",
    "\\newcommand{\\Qaast}{\\mathbf{Q}_{\\bf \\ast \\ast}}\n",
    "\\newcommand{\\Qastf}{\\mathbf{Q}_{\\ast \\mappingFunction}}\n",
    "\\newcommand{\\Qfast}{\\mathbf{Q}_{\\mappingFunctionVector \\bf \\ast}}\n",
    "\\newcommand{\\Qff}{\\mathbf{Q}_{\\mappingFunctionVector \\mappingFunctionVector}}\n",
    "\\newcommand{\\aMatrix}{\\mathbf{A}}\n",
    "\\newcommand{\\aScalar}{a}\n",
    "\\newcommand{\\aVector}{\\mathbf{a}}\n",
    "\\newcommand{\\acceleration}{a}\n",
    "\\newcommand{\\bMatrix}{\\mathbf{B}}\n",
    "\\newcommand{\\bScalar}{b}\n",
    "\\newcommand{\\bVector}{\\mathbf{b}}\n",
    "\\newcommand{\\basisFunc}{\\phi}\n",
    "\\newcommand{\\basisFuncVector}{\\boldsymbol{ \\basisFunc}}\n",
    "\\newcommand{\\basisFunction}{\\phi}\n",
    "\\newcommand{\\basisLocation}{\\mu}\n",
    "\\newcommand{\\basisMatrix}{\\boldsymbol{ \\Phi}}\n",
    "\\newcommand{\\basisScalar}{\\basisFunction}\n",
    "\\newcommand{\\basisVector}{\\boldsymbol{ \\basisFunction}}\n",
    "\\newcommand{\\activationFunction}{\\phi}\n",
    "\\newcommand{\\activationMatrix}{\\boldsymbol{ \\Phi}}\n",
    "\\newcommand{\\activationScalar}{\\basisFunction}\n",
    "\\newcommand{\\activationVector}{\\boldsymbol{ \\basisFunction}}\n",
    "\\newcommand{\\bigO}{\\mathcal{O}}\n",
    "\\newcommand{\\binomProb}{\\pi}\n",
    "\\newcommand{\\cMatrix}{\\mathbf{C}}\n",
    "\\newcommand{\\cbasisMatrix}{\\hat{\\boldsymbol{ \\Phi}}}\n",
    "\\newcommand{\\cdataMatrix}{\\hat{\\dataMatrix}}\n",
    "\\newcommand{\\cdataScalar}{\\hat{\\dataScalar}}\n",
    "\\newcommand{\\cdataVector}{\\hat{\\dataVector}}\n",
    "\\newcommand{\\centeredKernelMatrix}{\\mathbf{ \\MakeUppercase{\\centeredKernelScalar}}}\n",
    "\\newcommand{\\centeredKernelScalar}{b}\n",
    "\\newcommand{\\centeredKernelVector}{\\centeredKernelScalar}\n",
    "\\newcommand{\\centeringMatrix}{\\mathbf{H}}\n",
    "\\newcommand{\\chiSquaredDist}[2]{\\chi_{#1}^{2}\\left(#2\\right)}\n",
    "\\newcommand{\\chiSquaredSamp}[1]{\\chi_{#1}^{2}}\n",
    "\\newcommand{\\conditionalCovariance}{\\boldsymbol{ \\Sigma}}\n",
    "\\newcommand{\\coregionalizationMatrix}{\\mathbf{B}}\n",
    "\\newcommand{\\coregionalizationScalar}{b}\n",
    "\\newcommand{\\coregionalizationVector}{\\mathbf{ \\coregionalizationScalar}}\n",
    "\\newcommand{\\covDist}[2]{\\text{cov}_{#2}\\left(#1\\right)}\n",
    "\\newcommand{\\covSamp}[1]{\\text{cov}\\left(#1\\right)}\n",
    "\\newcommand{\\covarianceScalar}{c}\n",
    "\\newcommand{\\covarianceVector}{\\mathbf{ \\covarianceScalar}}\n",
    "\\newcommand{\\covarianceMatrix}{\\mathbf{C}}\n",
    "\\newcommand{\\covarianceMatrixTwo}{\\boldsymbol{ \\Sigma}}\n",
    "\\newcommand{\\croupierScalar}{s}\n",
    "\\newcommand{\\croupierVector}{\\mathbf{ \\croupierScalar}}\n",
    "\\newcommand{\\croupierMatrix}{\\mathbf{ \\MakeUppercase{\\croupierScalar}}}\n",
    "\\newcommand{\\dataDim}{p}\n",
    "\\newcommand{\\dataIndex}{i}\n",
    "\\newcommand{\\dataIndexTwo}{j}\n",
    "\\newcommand{\\dataMatrix}{\\mathbf{Y}}\n",
    "\\newcommand{\\dataScalar}{y}\n",
    "\\newcommand{\\dataSet}{\\mathcal{D}}\n",
    "\\newcommand{\\dataStd}{\\sigma}\n",
    "\\newcommand{\\dataVector}{\\mathbf{ \\dataScalar}}\n",
    "\\newcommand{\\decayRate}{d}\n",
    "\\newcommand{\\degreeMatrix}{\\mathbf{ \\MakeUppercase{\\degreeScalar}}}\n",
    "\\newcommand{\\degreeScalar}{d}\n",
    "\\newcommand{\\degreeVector}{\\mathbf{ \\degreeScalar}}\n",
    "\\newcommand{\\diag}[1]{\\text{diag}\\left(#1\\right)}\n",
    "\\newcommand{\\diagonalMatrix}{\\mathbf{D}}\n",
    "\\newcommand{\\diff}[2]{\\frac{\\text{d}#1}{\\text{d}#2}}\n",
    "\\newcommand{\\diffTwo}[2]{\\frac{\\text{d}^2#1}{\\text{d}#2^2}}\n",
    "\\newcommand{\\displacement}{x}\n",
    "\\newcommand{\\displacementVector}{\\textbf{\\displacement}}\n",
    "\\newcommand{\\distanceMatrix}{\\mathbf{ \\MakeUppercase{\\distanceScalar}}}\n",
    "\\newcommand{\\distanceScalar}{d}\n",
    "\\newcommand{\\distanceVector}{\\mathbf{ \\distanceScalar}}\n",
    "\\newcommand{\\eigenvaltwo}{\\ell}\n",
    "\\newcommand{\\eigenvaltwoMatrix}{\\mathbf{L}}\n",
    "\\newcommand{\\eigenvaltwoVector}{\\mathbf{l}}\n",
    "\\newcommand{\\eigenvalue}{\\lambda}\n",
    "\\newcommand{\\eigenvalueMatrix}{\\boldsymbol{ \\Lambda}}\n",
    "\\newcommand{\\eigenvalueVector}{\\boldsymbol{ \\lambda}}\n",
    "\\newcommand{\\eigenvector}{\\mathbf{ \\eigenvectorScalar}}\n",
    "\\newcommand{\\eigenvectorMatrix}{\\mathbf{U}}\n",
    "\\newcommand{\\eigenvectorScalar}{u}\n",
    "\\newcommand{\\eigenvectwo}{\\mathbf{v}}\n",
    "\\newcommand{\\eigenvectwoMatrix}{\\mathbf{V}}\n",
    "\\newcommand{\\eigenvectwoScalar}{v}\n",
    "\\newcommand{\\entropy}[1]{\\mathcal{H}\\left(#1\\right)}\n",
    "\\newcommand{\\errorFunction}{E}\n",
    "\\newcommand{\\expDist}[2]{\\left<#1\\right>_{#2}}\n",
    "\\newcommand{\\expSamp}[1]{\\left<#1\\right>}\n",
    "\\newcommand{\\expectation}[1]{\\left\\langle #1 \\right\\rangle }\n",
    "\\newcommand{\\expectationDist}[2]{\\left\\langle #1 \\right\\rangle _{#2}}\n",
    "\\newcommand{\\expectedDistanceMatrix}{\\mathcal{D}}\n",
    "\\newcommand{\\eye}{\\mathbf{I}}\n",
    "\\newcommand{\\fantasyDim}{r}\n",
    "\\newcommand{\\fantasyMatrix}{\\mathbf{ \\MakeUppercase{\\fantasyScalar}}}\n",
    "\\newcommand{\\fantasyScalar}{z}\n",
    "\\newcommand{\\fantasyVector}{\\mathbf{ \\fantasyScalar}}\n",
    "\\newcommand{\\featureStd}{\\varsigma}\n",
    "\\newcommand{\\gammaCdf}[3]{\\mathcal{GAMMA CDF}\\left(#1|#2,#3\\right)}\n",
    "\\newcommand{\\gammaDist}[3]{\\mathcal{G}\\left(#1|#2,#3\\right)}\n",
    "\\newcommand{\\gammaSamp}[2]{\\mathcal{G}\\left(#1,#2\\right)}\n",
    "\\newcommand{\\gaussianDist}[3]{\\mathcal{N}\\left(#1|#2,#3\\right)}\n",
    "\\newcommand{\\gaussianSamp}[2]{\\mathcal{N}\\left(#1,#2\\right)}\n",
    "\\newcommand{\\uniformDist}[3]{\\mathcal{U}\\left(#1|#2,#3\\right)}\n",
    "\\newcommand{\\uniformSamp}[2]{\\mathcal{U}\\left(#1,#2\\right)}\n",
    "\\newcommand{\\given}{|}\n",
    "\\newcommand{\\half}{\\frac{1}{2}}\n",
    "\\newcommand{\\heaviside}{H}\n",
    "\\newcommand{\\hiddenMatrix}{\\mathbf{ \\MakeUppercase{\\hiddenScalar}}}\n",
    "\\newcommand{\\hiddenScalar}{h}\n",
    "\\newcommand{\\hiddenVector}{\\mathbf{ \\hiddenScalar}}\n",
    "\\newcommand{\\identityMatrix}{\\eye}\n",
    "\\newcommand{\\inducingInputScalar}{z}\n",
    "\\newcommand{\\inducingInputVector}{\\mathbf{ \\inducingInputScalar}}\n",
    "\\newcommand{\\inducingInputMatrix}{\\mathbf{Z}}\n",
    "\\newcommand{\\inducingScalar}{u}\n",
    "\\newcommand{\\inducingVector}{\\mathbf{ \\inducingScalar}}\n",
    "\\newcommand{\\inducingMatrix}{\\mathbf{U}}\n",
    "\\newcommand{\\inlineDiff}[2]{\\text{d}#1/\\text{d}#2}\n",
    "\\newcommand{\\inputDim}{q}\n",
    "\\newcommand{\\inputMatrix}{\\mathbf{X}}\n",
    "\\newcommand{\\inputScalar}{x}\n",
    "\\newcommand{\\inputSpace}{\\mathcal{X}}\n",
    "\\newcommand{\\inputVals}{\\inputVector}\n",
    "\\newcommand{\\inputVector}{\\mathbf{ \\inputScalar}}\n",
    "\\newcommand{\\iterNum}{k}\n",
    "\\newcommand{\\kernel}{\\kernelScalar}\n",
    "\\newcommand{\\kernelMatrix}{\\mathbf{K}}\n",
    "\\newcommand{\\kernelScalar}{k}\n",
    "\\newcommand{\\kernelVector}{\\mathbf{ \\kernelScalar}}\n",
    "\\newcommand{\\kff}{\\kernelScalar_{\\mappingFunction \\mappingFunction}}\n",
    "\\newcommand{\\kfu}{\\kernelVector_{\\mappingFunction \\inducingScalar}}\n",
    "\\newcommand{\\kuf}{\\kernelVector_{\\inducingScalar \\mappingFunction}}\n",
    "\\newcommand{\\kuu}{\\kernelVector_{\\inducingScalar \\inducingScalar}}\n",
    "\\newcommand{\\lagrangeMultiplier}{\\lambda}\n",
    "\\newcommand{\\lagrangeMultiplierMatrix}{\\boldsymbol{ \\Lambda}}\n",
    "\\newcommand{\\lagrangian}{L}\n",
    "\\newcommand{\\laplacianFactor}{\\mathbf{ \\MakeUppercase{\\laplacianFactorScalar}}}\n",
    "\\newcommand{\\laplacianFactorScalar}{m}\n",
    "\\newcommand{\\laplacianFactorVector}{\\mathbf{ \\laplacianFactorScalar}}\n",
    "\\newcommand{\\laplacianMatrix}{\\mathbf{L}}\n",
    "\\newcommand{\\laplacianScalar}{\\ell}\n",
    "\\newcommand{\\laplacianVector}{\\mathbf{ \\ell}}\n",
    "\\newcommand{\\latentDim}{q}\n",
    "\\newcommand{\\latentDistanceMatrix}{\\boldsymbol{ \\Delta}}\n",
    "\\newcommand{\\latentDistanceScalar}{\\delta}\n",
    "\\newcommand{\\latentDistanceVector}{\\boldsymbol{ \\delta}}\n",
    "\\newcommand{\\latentForce}{f}\n",
    "\\newcommand{\\latentFunction}{u}\n",
    "\\newcommand{\\latentFunctionVector}{\\mathbf{ \\latentFunction}}\n",
    "\\newcommand{\\latentFunctionMatrix}{\\mathbf{ \\MakeUppercase{\\latentFunction}}}\n",
    "\\newcommand{\\latentIndex}{j}\n",
    "\\newcommand{\\latentScalar}{z}\n",
    "\\newcommand{\\latentVector}{\\mathbf{ \\latentScalar}}\n",
    "\\newcommand{\\latentMatrix}{\\mathbf{Z}}\n",
    "\\newcommand{\\learnRate}{\\eta}\n",
    "\\newcommand{\\lengthScale}{\\ell}\n",
    "\\newcommand{\\rbfWidth}{\\ell}\n",
    "\\newcommand{\\likelihoodBound}{\\mathcal{L}}\n",
    "\\newcommand{\\likelihoodFunction}{L}\n",
    "\\newcommand{\\locationScalar}{\\mu}\n",
    "\\newcommand{\\locationVector}{\\boldsymbol{ \\locationScalar}}\n",
    "\\newcommand{\\locationMatrix}{\\mathbf{M}}\n",
    "\\newcommand{\\variance}[1]{\\text{var}\\left( #1 \\right)}\n",
    "\\newcommand{\\mappingFunction}{f}\n",
    "\\newcommand{\\mappingFunctionMatrix}{\\mathbf{F}}\n",
    "\\newcommand{\\mappingFunctionTwo}{g}\n",
    "\\newcommand{\\mappingFunctionTwoMatrix}{\\mathbf{G}}\n",
    "\\newcommand{\\mappingFunctionTwoVector}{\\mathbf{ \\mappingFunctionTwo}}\n",
    "\\newcommand{\\mappingFunctionVector}{\\mathbf{ \\mappingFunction}}\n",
    "\\newcommand{\\scaleScalar}{s}\n",
    "\\newcommand{\\mappingScalar}{w}\n",
    "\\newcommand{\\mappingVector}{\\mathbf{ \\mappingScalar}}\n",
    "\\newcommand{\\mappingMatrix}{\\mathbf{W}}\n",
    "\\newcommand{\\mappingScalarTwo}{v}\n",
    "\\newcommand{\\mappingVectorTwo}{\\mathbf{ \\mappingScalarTwo}}\n",
    "\\newcommand{\\mappingMatrixTwo}{\\mathbf{V}}\n",
    "\\newcommand{\\maxIters}{K}\n",
    "\\newcommand{\\meanMatrix}{\\mathbf{M}}\n",
    "\\newcommand{\\meanScalar}{\\mu}\n",
    "\\newcommand{\\meanTwoMatrix}{\\mathbf{M}}\n",
    "\\newcommand{\\meanTwoScalar}{m}\n",
    "\\newcommand{\\meanTwoVector}{\\mathbf{ \\meanTwoScalar}}\n",
    "\\newcommand{\\meanVector}{\\boldsymbol{ \\meanScalar}}\n",
    "\\newcommand{\\mrnaConcentration}{m}\n",
    "\\newcommand{\\naturalFrequency}{\\omega}\n",
    "\\newcommand{\\neighborhood}[1]{\\mathcal{N}\\left( #1 \\right)}\n",
    "\\newcommand{\\neilurl}{http://inverseprobability.com/}\n",
    "\\newcommand{\\noiseMatrix}{\\boldsymbol{ E}}\n",
    "\\newcommand{\\noiseScalar}{\\epsilon}\n",
    "\\newcommand{\\noiseVector}{\\boldsymbol{ \\epsilon}}\n",
    "\\newcommand{\\norm}[1]{\\left\\Vert #1 \\right\\Vert}\n",
    "\\newcommand{\\normalizedLaplacianMatrix}{\\hat{\\mathbf{L}}}\n",
    "\\newcommand{\\normalizedLaplacianScalar}{\\hat{\\ell}}\n",
    "\\newcommand{\\normalizedLaplacianVector}{\\hat{\\mathbf{ \\ell}}}\n",
    "\\newcommand{\\numActive}{m}\n",
    "\\newcommand{\\numBasisFunc}{m}\n",
    "\\newcommand{\\numComponents}{m}\n",
    "\\newcommand{\\numComps}{K}\n",
    "\\newcommand{\\numData}{n}\n",
    "\\newcommand{\\numFeatures}{K}\n",
    "\\newcommand{\\numHidden}{h}\n",
    "\\newcommand{\\numInducing}{m}\n",
    "\\newcommand{\\numLayers}{\\ell}\n",
    "\\newcommand{\\numNeighbors}{K}\n",
    "\\newcommand{\\numSequences}{s}\n",
    "\\newcommand{\\numSuccess}{s}\n",
    "\\newcommand{\\numTasks}{m}\n",
    "\\newcommand{\\numTime}{T}\n",
    "\\newcommand{\\numTrials}{S}\n",
    "\\newcommand{\\outputIndex}{j}\n",
    "\\newcommand{\\paramVector}{\\boldsymbol{ \\theta}}\n",
    "\\newcommand{\\parameterMatrix}{\\boldsymbol{ \\Theta}}\n",
    "\\newcommand{\\parameterScalar}{\\theta}\n",
    "\\newcommand{\\parameterVector}{\\boldsymbol{ \\parameterScalar}}\n",
    "\\newcommand{\\partDiff}[2]{\\frac{\\partial#1}{\\partial#2}}\n",
    "\\newcommand{\\precisionScalar}{j}\n",
    "\\newcommand{\\precisionVector}{\\mathbf{ \\precisionScalar}}\n",
    "\\newcommand{\\precisionMatrix}{\\mathbf{J}}\n",
    "\\newcommand{\\pseudotargetScalar}{\\widetilde{y}}\n",
    "\\newcommand{\\pseudotargetVector}{\\mathbf{ \\pseudotargetScalar}}\n",
    "\\newcommand{\\pseudotargetMatrix}{\\mathbf{ \\widetilde{Y}}}\n",
    "\\newcommand{\\rank}[1]{\\text{rank}\\left(#1\\right)}\n",
    "\\newcommand{\\rayleighDist}[2]{\\mathcal{R}\\left(#1|#2\\right)}\n",
    "\\newcommand{\\rayleighSamp}[1]{\\mathcal{R}\\left(#1\\right)}\n",
    "\\newcommand{\\responsibility}{r}\n",
    "\\newcommand{\\rotationScalar}{r}\n",
    "\\newcommand{\\rotationVector}{\\mathbf{ \\rotationScalar}}\n",
    "\\newcommand{\\rotationMatrix}{\\mathbf{R}}\n",
    "\\newcommand{\\sampleCovScalar}{s}\n",
    "\\newcommand{\\sampleCovVector}{\\mathbf{ \\sampleCovScalar}}\n",
    "\\newcommand{\\sampleCovMatrix}{\\mathbf{s}}\n",
    "\\newcommand{\\scalarProduct}[2]{\\left\\langle{#1},{#2}\\right\\rangle}\n",
    "\\newcommand{\\sign}[1]{\\text{sign}\\left(#1\\right)}\n",
    "\\newcommand{\\sigmoid}[1]{\\sigma\\left(#1\\right)}\n",
    "\\newcommand{\\singularvalue}{\\ell}\n",
    "\\newcommand{\\singularvalueMatrix}{\\mathbf{L}}\n",
    "\\newcommand{\\singularvalueVector}{\\mathbf{l}}\n",
    "\\newcommand{\\sorth}{\\mathbf{u}}\n",
    "\\newcommand{\\spar}{\\lambda}\n",
    "\\newcommand{\\trace}[1]{\\text{tr}\\left(#1\\right)}\n",
    "\\newcommand{\\BasalRate}{B}\n",
    "\\newcommand{\\DampingCoefficient}{C}\n",
    "\\newcommand{\\DecayRate}{D}\n",
    "\\newcommand{\\Displacement}{X}\n",
    "\\newcommand{\\LatentForce}{F}\n",
    "\\newcommand{\\Mass}{M}\n",
    "\\newcommand{\\Sensitivity}{S}\n",
    "\\newcommand{\\basalRate}{b}\n",
    "\\newcommand{\\dampingCoefficient}{c}\n",
    "\\newcommand{\\mass}{m}\n",
    "\\newcommand{\\sensitivity}{s}\n",
    "\\newcommand{\\springScalar}{\\kappa}\n",
    "\\newcommand{\\springVector}{\\boldsymbol{ \\kappa}}\n",
    "\\newcommand{\\springMatrix}{\\boldsymbol{ \\mathcal{K}}}\n",
    "\\newcommand{\\tfConcentration}{p}\n",
    "\\newcommand{\\tfDecayRate}{\\delta}\n",
    "\\newcommand{\\tfMrnaConcentration}{f}\n",
    "\\newcommand{\\tfVector}{\\mathbf{ \\tfConcentration}}\n",
    "\\newcommand{\\velocity}{v}\n",
    "\\newcommand{\\sufficientStatsScalar}{g}\n",
    "\\newcommand{\\sufficientStatsVector}{\\mathbf{ \\sufficientStatsScalar}}\n",
    "\\newcommand{\\sufficientStatsMatrix}{\\mathbf{G}}\n",
    "\\newcommand{\\switchScalar}{s}\n",
    "\\newcommand{\\switchVector}{\\mathbf{ \\switchScalar}}\n",
    "\\newcommand{\\switchMatrix}{\\mathbf{S}}\n",
    "\\newcommand{\\tr}[1]{\\text{tr}\\left(#1\\right)}\n",
    "\\newcommand{\\loneNorm}[1]{\\left\\Vert #1 \\right\\Vert_1}\n",
    "\\newcommand{\\ltwoNorm}[1]{\\left\\Vert #1 \\right\\Vert_2}\n",
    "\\newcommand{\\onenorm}[1]{\\left\\vert#1\\right\\vert_1}\n",
    "\\newcommand{\\twonorm}[1]{\\left\\Vert #1 \\right\\Vert}\n",
    "\\newcommand{\\vScalar}{v}\n",
    "\\newcommand{\\vVector}{\\mathbf{v}}\n",
    "\\newcommand{\\vMatrix}{\\mathbf{V}}\n",
    "\\newcommand{\\varianceDist}[2]{\\text{var}_{#2}\\left( #1 \\right)}\n",
    "\\newcommand{\\vecb}[1]{\\left(#1\\right):}\n",
    "\\newcommand{\\weightScalar}{w}\n",
    "\\newcommand{\\weightVector}{\\mathbf{ \\weightScalar}}\n",
    "\\newcommand{\\weightMatrix}{\\mathbf{W}}\n",
    "\\newcommand{\\weightedAdjacencyMatrix}{\\mathbf{A}}\n",
    "\\newcommand{\\weightedAdjacencyScalar}{a}\n",
    "\\newcommand{\\weightedAdjacencyVector}{\\mathbf{ \\weightedAdjacencyScalar}}\n",
    "\\newcommand{\\onesVector}{\\mathbf{1}}\n",
    "\\newcommand{\\zerosVector}{\\mathbf{0}}\n",
    "$$"
   ]
  },
  {
   "cell_type": "markdown",
   "metadata": {},
   "source": [
    "<!-- Do not edit this file locally. -->\n",
    "<!-- Do not edit this file locally. -->\n",
    "<!---->\n",
    "<!-- Do not edit this file locally. -->\n",
    "<!-- Do not edit this file locally. -->\n",
    "<!-- The last names to be defined. Should be defined entirely in terms of macros from above-->\n",
    "<!--\n",
    "\n",
    "-->"
   ]
  },
  {
   "cell_type": "markdown",
   "metadata": {},
   "source": [
    "Setup\n",
    "-----\n",
    "\n",
    "First we download some libraries and files to support the notebook."
   ]
  },
  {
   "cell_type": "code",
   "execution_count": 1,
   "metadata": {},
   "outputs": [],
   "source": [
    "import urllib.request"
   ]
  },
  {
   "cell_type": "code",
   "execution_count": 2,
   "metadata": {},
   "outputs": [
    {
     "data": {
      "text/plain": [
       "('mlai.py', <http.client.HTTPMessage at 0x106e32198>)"
      ]
     },
     "execution_count": 2,
     "metadata": {},
     "output_type": "execute_result"
    }
   ],
   "source": [
    "urllib.request.urlretrieve('https://raw.githubusercontent.com/lawrennd/talks/gh-pages/mlai.py','mlai.py')"
   ]
  },
  {
   "cell_type": "code",
   "execution_count": 3,
   "metadata": {},
   "outputs": [
    {
     "data": {
      "text/plain": [
       "('teaching_plots.py', <http.client.HTTPMessage at 0x106e327f0>)"
      ]
     },
     "execution_count": 3,
     "metadata": {},
     "output_type": "execute_result"
    }
   ],
   "source": [
    "urllib.request.urlretrieve('https://raw.githubusercontent.com/lawrennd/talks/gh-pages/teaching_plots.py','teaching_plots.py')"
   ]
  },
  {
   "cell_type": "code",
   "execution_count": 4,
   "metadata": {},
   "outputs": [
    {
     "data": {
      "text/plain": [
       "('gp_tutorial.py', <http.client.HTTPMessage at 0x106e32c88>)"
      ]
     },
     "execution_count": 4,
     "metadata": {},
     "output_type": "execute_result"
    }
   ],
   "source": [
    "urllib.request.urlretrieve('https://raw.githubusercontent.com/lawrennd/talks/gh-pages/gp_tutorial.py','gp_tutorial.py')"
   ]
  },
  {
   "cell_type": "markdown",
   "metadata": {},
   "source": [
    "pods\n",
    "----\n",
    "\n",
    "In Sheffield we created a suite of software tools for ‘Open Data\n",
    "Science’. Open data science is an approach to sharing code, models and\n",
    "data that should make it easier for companies, health professionals and\n",
    "scientists to gain access to data science techniques.\n",
    "\n",
    "You can also check this blog post on [Open Data\n",
    "Science](http://inverseprobability.com/2014/07/01/open-data-science).\n",
    "\n",
    "The software can be installed using"
   ]
  },
  {
   "cell_type": "code",
   "execution_count": 5,
   "metadata": {},
   "outputs": [
    {
     "name": "stdout",
     "output_type": "stream",
     "text": [
      "Collecting git+https://github.com/sods/ods\n",
      "  Cloning https://github.com/sods/ods to /private/var/folders/22/6ls22g994bdfdpwx4f9gcmsw0000gn/T/pip-req-build-np54cfeg\n",
      "  Running command git clone -q https://github.com/sods/ods /private/var/folders/22/6ls22g994bdfdpwx4f9gcmsw0000gn/T/pip-req-build-np54cfeg\n",
      "Building wheels for collected packages: pods\n",
      "  Building wheel for pods (setup.py) ... \u001b[?25ldone\n",
      "\u001b[?25h  Created wheel for pods: filename=pods-0.0.21a0-py3-none-any.whl size=72291 sha256=2e7b82ff7de136de4676c2eba49b34e9be1dcb930a298d7c731409e89469a50a\n",
      "  Stored in directory: /private/var/folders/22/6ls22g994bdfdpwx4f9gcmsw0000gn/T/pip-ephem-wheel-cache-pe3xrtqj/wheels/56/7f/87/0040ccbdd4956090a84a27ce7652170066c3ba2fc4078a892d\n",
      "Successfully built pods\n",
      "Installing collected packages: pods\n",
      "  Attempting uninstall: pods\n",
      "    Found existing installation: pods 0.0.21a0\n",
      "    Uninstalling pods-0.0.21a0:\n",
      "      Successfully uninstalled pods-0.0.21a0\n",
      "Successfully installed pods-0.0.21a0\n",
      "Note: you may need to restart the kernel to use updated packages.\n"
     ]
    }
   ],
   "source": [
    "%pip install --upgrade git+https://github.com/sods/ods"
   ]
  },
  {
   "cell_type": "markdown",
   "metadata": {},
   "source": [
    "from the command prompt where you can access your python installation.\n",
    "\n",
    "The code is also available on github:\n",
    "<a href=\"https://github.com/sods/ods\" class=\"uri\">https://github.com/sods/ods</a>\n",
    "\n",
    "Once `pods` is installed, it can be imported in the usual manner."
   ]
  },
  {
   "cell_type": "code",
   "execution_count": 6,
   "metadata": {},
   "outputs": [],
   "source": [
    "import pods"
   ]
  },
  {
   "cell_type": "markdown",
   "metadata": {},
   "source": [
    "GPy: A Gaussian Process Framework in Python\n",
    "-------------------------------------------\n",
    "\n",
    "Gaussian processes are a flexible tool for non-parametric analysis with\n",
    "uncertainty. The GPy software was started in Sheffield to provide a easy\n",
    "to use interface to GPs. One which allowed the user to focus on the\n",
    "modelling rather than the mathematics.\n",
    "\n",
    "<img class=\"\" src=\"http://inverseprobability.com/talks/slides/../slides/diagrams/gp/gpy.png\" style=\"width:70%\">\n",
    "\n",
    "Figure: <i>GPy is a BSD licensed software code base for implementing\n",
    "Gaussian process models in Python. It is designed for teaching and\n",
    "modelling. We welcome contributions which can be made through the Github\n",
    "repository\n",
    "<a href=\"https://github.com/SheffieldML/GPy\" class=\"uri\">https://github.com/SheffieldML/GPy</a></i>\n",
    "\n",
    "GPy is a BSD licensed software code base for implementing Gaussian\n",
    "process models in python. This allows GPs to be combined with a wide\n",
    "variety of software libraries.\n",
    "\n",
    "The software itself is available on\n",
    "[GitHub](https://github.com/SheffieldML/GPy) and the team welcomes\n",
    "contributions.\n",
    "\n",
    "The aim for GPy is to be a probabilistic-style programming language,\n",
    "i.e. you specify the model rather than the algorithm. As well as a large\n",
    "range of covariance functions the software allows for non-Gaussian\n",
    "likelihoods, multivariate outputs, dimensionality reduction and\n",
    "approximations for larger data sets.\n",
    "\n",
    "The documentation for GPy can be found\n",
    "[here](https://gpy.readthedocs.io/en/latest/).\n",
    "\n",
    "-   GP-LVM Provides probabilistic non-linear dimensionality reduction.\n",
    "-   How to select the dimensionality?\n",
    "-   Need to estimate marginal likelihood.\n",
    "-   In standard GP-LVM it increases with increasing $q$.\n",
    "\n",
    "<table>\n",
    "<tr>\n",
    "<td width=\"40%\">\n",
    "\n",
    "**Bayesian GP-LVM**\n",
    "\n",
    "-   Start with a standard GP-LVM.\n",
    "-   Apply standard latent variable approach:\n",
    "    -   Define Gaussian prior over , $\\mathbf{Z}$.\n",
    "    -   Integrate out .\n",
    "    -   Unfortunately integration is intractable.\n",
    "\n",
    "</td>\n",
    "<td width=\"60%\">\n",
    "<center>\n",
    "\n",
    "{ }\n",
    "\n",
    "</center>\n",
    "</td>\n",
    "</tr>\n",
    "</table>"
   ]
  },
  {
   "cell_type": "markdown",
   "metadata": {},
   "source": [
    "Standard Variational Approach Fails\n",
    "-----------------------------------\n",
    "\n",
    "-   Standard variational bound has the form: $$\n",
    "    \\mathcal{L}= \\left<\\log p(\\mathbf{ y}|\\mathbf{Z})\\right>_{q(\\mathbf{Z})} + \\text{KL}\\left( q(\\mathbf{Z})\\,\\|\\,p(\\mathbf{Z}) \\right)\n",
    "    $$\n",
    "\n",
    "The standard variational approach would require the expectation of\n",
    "$\\log p(\\mathbf{ y}|\\mathbf{Z})$ under $q(\\mathbf{Z})$. $$\n",
    "  \\begin{align}\n",
    "  \\log p(\\mathbf{ y}|\\mathbf{Z}) = & -\\frac{1}{2}\\mathbf{ y}^\\top\\left(\\mathbf{K}_{\\mathbf{ f}, \\mathbf{ f}}+\\sigma^2\\mathbf{I}\\right)^{-1}\\mathbf{ y}\\\\ & -\\frac{1}{2}\\log \\det{\\mathbf{K}_{\\mathbf{ f}, \\mathbf{ f}}+\\sigma^2 \\mathbf{I}} -\\frac{n}{2}\\log 2\\pi\n",
    "  \\end{align}\n",
    "  $$ But this is extremely difficult to compute because\n",
    "$\\mathbf{K}_{\\mathbf{ f}, \\mathbf{ f}}$ is dependent on $\\mathbf{Z}$ and\n",
    "it appears in the inverse."
   ]
  },
  {
   "cell_type": "markdown",
   "metadata": {},
   "source": [
    "Variational Bayesian GP-LVM\n",
    "---------------------------\n",
    "\n",
    "The alternative approach is to consider the collapsed variational bound\n",
    "(used for low rank (sparse is a misnomer) Gaussian process\n",
    "approximations. $$\n",
    "    p(\\mathbf{ y})\\geq \\prod_{i=1}^nc_i \\int \\mathcal{N}\\left(\\mathbf{ y}|\\left<\\mathbf{ f}\\right>,\\sigma^2\\mathbf{I}\\right)p(\\mathbf{ u}) \\text{d}\\mathbf{ u}\n",
    "  $$ $$\n",
    "    p(\\mathbf{ y}|\\mathbf{Z})\\geq \\prod_{i=1}^nc_i \\int \\mathcal{N}\\left(\\mathbf{ y}|\\left<\\mathbf{ f}\\right>_{p(\\mathbf{ f}|\\mathbf{ u}, \\mathbf{Z})},\\sigma^2\\mathbf{I}\\right)p(\\mathbf{ u}) \\text{d}\\mathbf{ u}\n",
    "  $$ $$\n",
    "      \\int p(\\mathbf{ y}|\\mathbf{Z})p(\\mathbf{Z}) \\text{d}\\mathbf{Z}\\geq \\int \\prod_{i=1}^nc_i \\mathcal{N}\\left(\\mathbf{ y}|\\left<\\mathbf{ f}\\right>_{p(\\mathbf{ f}|\\mathbf{ u}, \\mathbf{Z})},\\sigma^2\\mathbf{I}\\right) p(\\mathbf{Z})\\text{d}\\mathbf{Z}p(\\mathbf{ u}) \\text{d}\\mathbf{ u}\n",
    "  $$\n",
    "\n",
    "To integrate across $\\mathbf{Z}$ we apply the lower bound to the inner\n",
    "integral. $$\n",
    "    \\begin{align}\n",
    "    \\int \\prod_{i=1}^nc_i \\mathcal{N}\\left(\\mathbf{ y}|\\left<\\mathbf{ f}\\right>_{p(\\mathbf{ f}|\\mathbf{ u}, \\mathbf{Z})},\\sigma^2\\mathbf{I}\\right) p(\\mathbf{Z})\\text{d}\\mathbf{Z}\\geq & \\left<\\sum_{i=1}^n\\log  c_i\\right>_{q(\\mathbf{Z})}\\\\ & +\\left<\\log\\mathcal{N}\\left(\\mathbf{ y}|\\left<\\mathbf{ f}\\right>_{p(\\mathbf{ f}|\\mathbf{ u}, \\mathbf{Z})},\\sigma^2\\mathbf{I}\\right)\\right>_{q(\\mathbf{Z})}\\\\& + \\text{KL}\\left( q(\\mathbf{Z})\\,\\|\\,p(\\mathbf{Z}) \\right)    \n",
    "    \\end{align}\n",
    "  $$ \\* Which is analytically tractable for Gaussian $q(\\mathbf{Z})$ and\n",
    "some covariance functions.\n",
    "\n",
    "-   Need expectations under $q(\\mathbf{Z})$ of: $$\n",
    "    \\log c_i = \\frac{1}{2\\sigma^2} \\left[k_{i, i} - \\mathbf{ k}_{i, \\mathbf{ u}}^\\top \\mathbf{K}_{\\mathbf{ u}, \\mathbf{ u}}^{-1} \\mathbf{ k}_{i, \\mathbf{ u}}\\right]\n",
    "    $$ and $$\n",
    "    \\log \\mathcal{N}\\left(\\mathbf{ y}|\\left<\\mathbf{ f}\\right>_{p(\\mathbf{ f}|\\mathbf{ u},\\mathbf{Y})},\\sigma^2\\mathbf{I}\\right) = -\\frac{1}{2}\\log 2\\pi\\sigma^2 - \\frac{1}{2\\sigma^2}\\left(y_i - \\mathbf{K}_{\\mathbf{ f}, \\mathbf{ u}}\\mathbf{K}_{\\mathbf{ u},\\mathbf{ u}}^{-1}\\mathbf{ u}\\right)^2\n",
    "    $$\n",
    "\n",
    "-   This requires the expectations $$\n",
    "    \\left<\\mathbf{K}_{\\mathbf{ f},\\mathbf{ u}}\\right>_{q(\\mathbf{Z})}\n",
    "    $$ and $$\n",
    "    \\left<\\mathbf{K}_{\\mathbf{ f},\\mathbf{ u}}\\mathbf{K}_{\\mathbf{ u},\\mathbf{ u}}^{-1}\\mathbf{K}_{\\mathbf{ u},\\mathbf{ f}}\\right>_{q(\\mathbf{Z})}\n",
    "    $$ which can be computed analytically for some covariance functions\n",
    "    (Damianou et al., 2016) or through sampling (Damianou, 2015;\n",
    "    Salimbeni and Deisenroth, 2017)."
   ]
  },
  {
   "cell_type": "markdown",
   "metadata": {},
   "source": [
    "Manifold Relevance Determination\n",
    "--------------------------------"
   ]
  },
  {
   "cell_type": "markdown",
   "metadata": {},
   "source": [
    "Modeling Multiple ‘Views’\n",
    "=========================\n",
    "\n",
    "-   Single space to model correlations between two different data\n",
    "    sources, e.g., images & text, image & pose.\n",
    "\n",
    "-   Shared latent spaces: Shon et al. (n.d.);Navaratnam et\n",
    "    al. (2007);Ek, Torr, et al. (2008)\n",
    "\n",
    "-   Effective when the \\`views’ are correlated.\n",
    "\n",
    "-   But not all information is shared between both \\`views’.\n",
    "\n",
    "-   PCA applied to concatenated data vs CCA applied to data."
   ]
  },
  {
   "cell_type": "markdown",
   "metadata": {},
   "source": [
    "Shared-Private Factorization\n",
    "============================\n",
    "\n",
    "-   In real scenarios, the \\`views’ are neither fully independent, nor\n",
    "    fully correlated.\n",
    "-   Shared models\n",
    "    -   either allow information relevant to a single view to be mixed\n",
    "        in the shared signal,\n",
    "    -   or are unable to model such private information.\n",
    "-   Solution: Model shared and private information Virtanen et al.\n",
    "    (n.d.),Ek, Rihan, et al. (2008),Leen and Fyfe (2006),Klami and Kaski\n",
    "    (n.d.),Klami and Kaski (2008),Tucker (1958)"
   ]
  },
  {
   "cell_type": "code",
   "execution_count": 7,
   "metadata": {},
   "outputs": [
    {
     "ename": "SyntaxError",
     "evalue": "unexpected character after line continuation character (<ipython-input-7-3f5803fbc5ec>, line 1)",
     "output_type": "error",
     "traceback": [
      "\u001b[0;36m  File \u001b[0;32m\"<ipython-input-7-3f5803fbc5ec>\"\u001b[0;36m, line \u001b[0;32m1\u001b[0m\n\u001b[0;31m    \\begin{center}\u001b[0m\n\u001b[0m                  ^\u001b[0m\n\u001b[0;31mSyntaxError\u001b[0m\u001b[0;31m:\u001b[0m unexpected character after line continuation character\n"
     ]
    }
   ],
   "source": [
    "    \\begin{center}\n",
    "      \\begin{tikzpicture}\n",
    "        % Define nodes\n",
    "        \\draw node[latent] (XS1) {$\\mathbf{Z}^{(1)}$};\n",
    "        \\draw node[obs, below right=of XS1] (Y1) {$\\dataMatrix^{(1)}$};\n",
    "        \\draw node[latent, above right=of Y1] (X) {$\\latentMatrix$};\n",
    "        \\draw node[obs, below right=of X] (Y2) {$\\dataMatrix^{(2)}$};\n",
    "        \\draw node[latent, above right=of Y2] (XS2) {$\\mathbf{Z}^{(2)}$};\n",
    "        \n",
    "        % Connect the nodes\n",
    "        \\draw [->] (XS1) to (Y1);%\n",
    "        \\draw [->] (XS2) to (Y2);%\n",
    "        \\draw [->] (X) to (Y1);%\n",
    "        \\draw [->] (X) to (Y2);%\n",
    "        \n",
    "      \\end{tikzpicture}\n",
    "    \\end{center}"
   ]
  },
  {
   "cell_type": "markdown",
   "metadata": {},
   "source": [
    "-   Probabilistic CCA is case when dimensionality of $\\mathbf{Z}$\n",
    "    matches $\\mathbf{Y}^{(i)}$ (cf Inter Battery Factor Analysis\n",
    "    Tucker (1958)).\n",
    "\n",
    "<!--frame failure start-->"
   ]
  },
  {
   "cell_type": "markdown",
   "metadata": {},
   "source": [
    "Manifold Relevance Determination\n",
    "================================\n",
    "\n",
    "    \\def\\layersep{2cm}\n",
    "    \\begin{center}\n",
    "      \\begin{tikzpicture}[node distance=\\layersep]\n",
    "\n",
    "= \\[text width=4em, text centered\\] % Draw the input layer nodes / in\n",
    "{1,…,8} % This is the same as writing / in {1/1,2/2,3/3,4/4} (Y-) at (,\n",
    "0) {$y_\\x$};\n",
    "\n",
    "    % Draw the hidden layer nodes\n",
    "    \\foreach \\name / \\x in {1,...,6}\n",
    "        \\path[xshift=1cm]\n",
    "            node[latent] (X-\\name) at (\\x cm, \\layersep) {$\\latentScalar_\\x$};\n",
    "\n",
    "    % Connect every node in the latent layer with every node in the\n",
    "    % data layer.\n",
    "    \\foreach \\source in {1,...,6}\n",
    "        \\foreach \\dest in {1,...,8}\n",
    "            \\draw[->] (X-\\source) -- (Y-\\dest);\n",
    "\n",
    "\n",
    "\n",
    "    %  Annotate the layers\n",
    "    \\node[annot,left of=X-1, node distance=1cm] (ls) {Latent space};\n",
    "    \\node[annot,left of=Y-1, node distance=1cm] (ds) {Data space};\n",
    "\n",
    "\\\\end{tikzpicture} \\\\end{center}\n",
    "\n",
    "<!--frame failure end-->\n",
    "<!--frame failure start-->"
   ]
  },
  {
   "cell_type": "markdown",
   "metadata": {},
   "source": [
    "Shared GP-LVM\n",
    "=============\n",
    "\n",
    "    \\def\\layersep{2cm}\n",
    "    \\begin{center}\n",
    "      \\begin{tikzpicture}[node distance=\\layersep]\n",
    "\n",
    "= \\[text width=4em, text centered\\] % Draw the input layer nodes / in\n",
    "{1,…,4} % This is the same as writing / in {1/1,2/2,3/3,4/4} (Y-) at (,\n",
    "0) {$y^{(1)}_\\x$};\n",
    "\n",
    "    \\foreach \\name / \\x in {1,...,4}\n",
    "    % This is the same as writing \\foreach \\name / \\x in {1/1,2/2,3/3,4/4}\n",
    "        \\node[obs] (Z-\\name) at (\\x+5, 0) {$\\dataScalar^{(2)}_\\x$};\n",
    "\n",
    "    % Draw the hidden layer nodes\n",
    "    \\foreach \\name / \\x in {1,...,6}\n",
    "        \\path[xshift=2cm]\n",
    "            node[latent] (X-\\name) at (\\x cm, \\layersep) {$\\latentScalar_\\x$};\n",
    "\n",
    "    % Connect every node in the latent layer with every node in the\n",
    "    % data layer.\n",
    "    \\foreach \\source in {1,...,6}\n",
    "        \\foreach \\dest in {1,...,4}\n",
    "            \\draw[->] (X-\\source) -- (Y-\\dest);\n",
    "\n",
    "    \\foreach \\source in {1,...,6}\n",
    "        \\foreach \\dest in {1,...,4}\n",
    "            \\draw[->] (X-\\source) -- (Z-\\dest);\n",
    "\n",
    "\n",
    "    %  Annotate the layers\n",
    "    \\node[annot,left of=X-1, node distance=1cm] (ls) {Latent space};\n",
    "    \\node[annot,left of=Y-1, node distance=1cm] (ds) {Data space};\n",
    "\n",
    "\\\\end{tikzpicture} Separate ARD parameters for mappings to\n",
    "$\\mathbf{Y}^{(1)}$ and $\\mathbf{Y}^{(2)}$. \\\\end{center}"
   ]
  },
  {
   "cell_type": "markdown",
   "metadata": {},
   "source": [
    "Manifold Relevance Determination Results\n",
    "========================================\n",
    "\n",
    "<img src=\"http://inverseprobability.com/talks/slides/../slides/diagrams/gplvm/andreas-deep-talk-0.svg\" class=\"\" width=\"90%\" style=\"vertical-align:middle;\">\n",
    "\n",
    "Figure: <i>The Yale Faces data set shows different people under\n",
    "different lighting conditions</i>\n",
    "\n",
    "<img src=\"http://inverseprobability.com/talks/slides/../slides/diagrams/gplvm/andreas-deep-talk-1.svg\" class=\"\" width=\"90%\" style=\"vertical-align:middle;\">\n",
    "\n",
    "Figure: <i>ARD Demonstrates not all of the latent space is used.</i>\n",
    "\n",
    "<img src=\"http://inverseprobability.com/talks/slides/../slides/diagrams/gplvm/andreas-deep-talk-2.svg\" class=\"\" width=\"90%\" style=\"vertical-align:middle;\">\n",
    "\n",
    "Figure: <i>Other applications include inferring pose from silhouette</i>"
   ]
  },
  {
   "cell_type": "code",
   "execution_count": 8,
   "metadata": {},
   "outputs": [
    {
     "data": {
      "image/jpeg": "[encoded data removed]",
      "text/html": [
       "\n",
       "        <iframe\n",
       "            width=\"400\"\n",
       "            height=\"300\"\n",
       "            src=\"https://www.youtube.com/embed/UvLI8o8z4IU\"\n",
       "            frameborder=\"0\"\n",
       "            allowfullscreen\n",
       "        ></iframe>\n",
       "        "
      ],
      "text/plain": [
       "<IPython.lib.display.YouTubeVideo at 0x1126475c0>"
      ]
     },
     "execution_count": 8,
     "metadata": {},
     "output_type": "execute_result"
    }
   ],
   "source": [
    "from IPython.lib.display import YouTubeVideo\n",
    "YouTubeVideo('UvLI8o8z4IU')"
   ]
  },
  {
   "cell_type": "markdown",
   "metadata": {},
   "source": [
    "Figure: <i>A short video description of the Manifold Relevance\n",
    "Determination method as published at ICML 2012</i>\n",
    "\n",
    "<!--frame end-->"
   ]
  },
  {
   "cell_type": "markdown",
   "metadata": {},
   "source": [
    "Getting Started and Downloading Data\n",
    "------------------------------------"
   ]
  },
  {
   "cell_type": "code",
   "execution_count": 9,
   "metadata": {},
   "outputs": [
    {
     "name": "stdout",
     "output_type": "stream",
     "text": [
      "Requirement already satisfied: GPy in /Users/neil/anaconda3/lib/python3.6/site-packages (1.9.9)\n",
      "Requirement already satisfied: numpy>=1.7 in /Users/neil/anaconda3/lib/python3.6/site-packages (from GPy) (1.18.2)\n",
      "Requirement already satisfied: scipy>=0.16 in /Users/neil/anaconda3/lib/python3.6/site-packages (from GPy) (1.1.0)\n",
      "Requirement already satisfied: paramz>=0.9.0 in /Users/neil/anaconda3/lib/python3.6/site-packages (from GPy) (0.9.5)\n",
      "Requirement already satisfied: six in /Users/neil/anaconda3/lib/python3.6/site-packages (from GPy) (1.14.0)\n",
      "Requirement already satisfied: decorator>=4.0.10 in /Users/neil/anaconda3/lib/python3.6/site-packages (from paramz>=0.9.0->GPy) (4.4.2)\n",
      "Note: you may need to restart the kernel to use updated packages.\n"
     ]
    }
   ],
   "source": [
    "%pip install GPy"
   ]
  },
  {
   "cell_type": "code",
   "execution_count": null,
   "metadata": {},
   "outputs": [],
   "source": [
    "import numpy as np\n",
    "import GPy\n",
    "import string"
   ]
  },
  {
   "cell_type": "markdown",
   "metadata": {},
   "source": [
    "The following code is for plotting and to prepare the bigger models for\n",
    "later useage. If you are interested, you can have a look, but this is\n",
    "not essential."
   ]
  },
  {
   "cell_type": "code",
   "execution_count": null,
   "metadata": {},
   "outputs": [],
   "source": [
    "from matplotlib import pyplot as plt\n",
    "import teaching_plots as plot\n",
    "import mlai"
   ]
  },
  {
   "cell_type": "code",
   "execution_count": null,
   "metadata": {},
   "outputs": [],
   "source": [
    "colors = [\"#3FCC94\", \"#DD4F23\", \"#C6D63B\", \"#D44271\", \n",
    "          \"#E4A42C\", \"#4F9139\", \"#6DDA4C\", \"#85831F\", \n",
    "          \"#B36A29\", \"#CF4E4A\"]"
   ]
  },
  {
   "cell_type": "code",
   "execution_count": null,
   "metadata": {},
   "outputs": [],
   "source": [
    "def plot_model(X, which_dims, labels):\n",
    "    fig, ax = plt.subplots(figsize=plot.big_figsize)\n",
    "    X = X[:,which_dims]\n",
    "    ulabs = []\n",
    "    for lab in labels:\n",
    "        if not lab in ulabs:\n",
    "            ulabs.append(lab)\n",
    "            pass\n",
    "        pass\n",
    "    for i, lab in enumerate(ulabs):\n",
    "        ax.scatter(*X[labels==lab].T,marker='o',color=colors[i],label=lab)\n",
    "        pass\n",
    "    pass"
   ]
  },
  {
   "cell_type": "markdown",
   "metadata": {},
   "source": [
    "For this lab, we’ll use a data set containing all handwritten digits\n",
    "from $0 \\cdots 9$ handwritten, provided by de Campos et al. (2009). We\n",
    "will only use some of the digits for the demonstrations in this lab\n",
    "class, but you can edit the code below to select different subsets of\n",
    "the digit data as you wish."
   ]
  },
  {
   "cell_type": "code",
   "execution_count": null,
   "metadata": {},
   "outputs": [],
   "source": [
    "which = [0,1,2,6,7,9] # which digits to work on\n",
    "data = pods.datasets.decampos_digits(which_digits=which)\n",
    "Y = data['Y']\n",
    "labels = data['str_lbls']"
   ]
  },
  {
   "cell_type": "markdown",
   "metadata": {},
   "source": [
    "You can try to plot some of the digits using `plt.matshow` (the digit\n",
    "images have size `16x16`)."
   ]
  },
  {
   "cell_type": "markdown",
   "metadata": {},
   "source": [
    "Bayesian GPLVM\n",
    "--------------\n",
    "\n",
    "In GP-LVM we use a point estimate of the distribution of the input\n",
    "$\\mathbf{Z}$. This estimate is derived through maximum likelihood or\n",
    "through a maximum a posteriori (MAP) approach. Ideally, we would like to\n",
    "also estimate a distribution over the input $\\mathbf{Z}$. In the\n",
    "Bayesian GPLVM we approximate the true distribution\n",
    "$p(\\mathbf{Z}|\\mathbf{Y})$ by a variational approximation\n",
    "$q(\\mathbf{Z})$ and integrate $\\mathbf{Z}$ out (Titsias and Lawrence,\n",
    "2010).\n",
    "\n",
    "Approximating the posterior in this way allows us to optimize a lower\n",
    "bound on the marginal likelihood. Handling the uncertainty in a\n",
    "principled way allows the model to make an assessment of whether a\n",
    "particular latent dimension is required, or the variation is better\n",
    "explained by noise. This allows the algorithm to switch off latent\n",
    "dimensions. The switching off can take some time though, so below in\n",
    "Section 6 we provide a pre-learnt module, but to complete section 6\n",
    "you’ll need to be working in the IPython console instead of the\n",
    "notebook.\n",
    "\n",
    "For the moment we’ll run a short experiment applying the Bayesian GP-LVM\n",
    "with an exponentiated quadratic covariance function."
   ]
  },
  {
   "cell_type": "code",
   "execution_count": null,
   "metadata": {},
   "outputs": [],
   "source": [
    "# Model optimization\n",
    "input_dim = 5 # How many latent dimensions to use\n",
    "kern = GPy.kern.RBF(input_dim,ARD=True) # ARD kernel\n",
    "m = GPy.models.BayesianGPLVM(Yn, input_dim=input_dim, kernel=kern, num_inducing=25)\n",
    "\n",
    "# initialize noise as 1% of variance in data\n",
    "#m.likelihood.variance = m.Y.var()/100.\n",
    "m.optimize(messages=1)"
   ]
  },
  {
   "cell_type": "code",
   "execution_count": null,
   "metadata": {},
   "outputs": [],
   "source": [
    "# Plotting the model\n",
    "plot_model(m.X.mean, m.rbf.lengthscale.argsort()[:2], labels.flatten())\n",
    "pb.legend()\n",
    "m.kern.plot_ARD()\n",
    "# Saving the model:\n",
    "m.pickle('digit_bgplvm_rbf.pickle')"
   ]
  },
  {
   "cell_type": "markdown",
   "metadata": {},
   "source": [
    "Because we are now also considering the uncertainty in the model, this\n",
    "optimization can take some time. However, you are free to interrupt the\n",
    "optimization at any point selecting `Kernel->Interupt` from the notepad\n",
    "menu. This will leave you with the model, `m` in the current state and\n",
    "you can plot and look into the model parameters."
   ]
  },
  {
   "cell_type": "markdown",
   "metadata": {},
   "source": [
    "Preoptimized Model\n",
    "------------------\n",
    "\n",
    "A good way of working with latent variable models is to interact with\n",
    "the latent dimensions, generating data. This is a little bit tricky in\n",
    "the notebook, so below in section 6 we provide code for setting up an\n",
    "interactive demo in the standard IPython shell. If you are working on\n",
    "your own machine you can try this now. Otherwise continue with section\n",
    "5."
   ]
  },
  {
   "cell_type": "markdown",
   "metadata": {},
   "source": [
    "Multiview Learning: Manifold Relevance Determination\n",
    "----------------------------------------------------\n",
    "\n",
    "In Manifold Relevance Determination we try to find one latent space,\n",
    "common for $K$ observed output sets (modalities)\n",
    "$\\{\\mathbf{Y}_{k}\\}_{k=1}^{K}$. Each modality is associated with a\n",
    "separate set of ARD parameters so that it switches off different parts\n",
    "of the whole latent space and, therefore, $\\mathbf{Z}$ is softly\n",
    "segmented into parts that are private to some, or shared for all\n",
    "modalities. Can you explain what happens in the following example?\n",
    "\n",
    "Again, you can stop the optimizer at any point and explore the result\n",
    "obtained with the so far training:"
   ]
  },
  {
   "cell_type": "code",
   "execution_count": null,
   "metadata": {},
   "outputs": [],
   "source": [
    "m = GPy.examples.dimensionality_reduction.mrd_simulation(optimize = False, plot=False)\n",
    "m.optimize(messages = True, max_iters=3e3, optimizer = 'bfgs')"
   ]
  },
  {
   "cell_type": "code",
   "execution_count": null,
   "metadata": {},
   "outputs": [],
   "source": [
    "_ = m.X.plot()\n",
    "m.plot_scales()"
   ]
  },
  {
   "cell_type": "markdown",
   "metadata": {},
   "source": []
  },
  {
   "cell_type": "markdown",
   "metadata": {},
   "source": [
    "Interactive Demo: For Use Outside the Notepad\n",
    "---------------------------------------------\n",
    "\n",
    "The module below loads a pre-optimized Bayesian GPLVM model (like the\n",
    "one you just trained) and allows you to interact with the latent space.\n",
    "Three interactive figures pop up: the latent space, the ARD scales and a\n",
    "sample in the output space (corresponding to the current selected latent\n",
    "point of the other figure). You can sample with the mouse from the\n",
    "latent space and obtain samples in the output space. You can select\n",
    "different latent dimensions to vary by clicking on the corresponding\n",
    "scales with the left and right mouse buttons. This will also cause the\n",
    "latent space to be projected on the selected latent dimensions in the\n",
    "other figure."
   ]
  },
  {
   "cell_type": "code",
   "execution_count": null,
   "metadata": {},
   "outputs": [],
   "source": [
    "import urllib2, os, sys"
   ]
  },
  {
   "cell_type": "code",
   "execution_count": null,
   "metadata": {},
   "outputs": [],
   "source": [
    "model_path =  'digit_bgplvm_demo.pickle' # local name for model file\n",
    "status = \"\"\n",
    "\n",
    "re = 0\n",
    "if len(sys.argv) == 2:\n",
    "    re = 1\n",
    "\n",
    "if re or not os.path.exists(model_path): # only download the model new, if it was not already\n",
    "    url = 'http://staffwww.dcs.sheffield.ac.uk/people/M.Zwiessele/gpss/lab3/digit_bgplvm_demo.pickle'\n",
    "    with open(model_path, 'wb') as f:\n",
    "        u = urllib2.urlopen(url)\n",
    "        meta = u.info()\n",
    "        file_size = int(meta.getheaders(\"Content-Length\")[0])\n",
    "        print \"Downloading: %s\" % (model_path)\n",
    "\n",
    "        file_size_dl = 0\n",
    "        block_sz = 8192\n",
    "        while True:\n",
    "            buff = u.read(block_sz)\n",
    "            if not buff:\n",
    "                break\n",
    "            file_size_dl += len(buff)\n",
    "            f.write(buff)\n",
    "            sys.stdout.write(\" \"*(len(status)) + \"\\r\")\n",
    "            status = r\"{:7.3f}/{:.3f}MB [{: >7.2%}]\".format(file_size_dl/(1.*1e6), file_size/(1.*1e6), float(file_size_dl)/file_size)\n",
    "            sys.stdout.write(status)\n",
    "            sys.stdout.flush()\n",
    "        sys.stdout.write(\" \"*(len(status)) + \"\\r\")\n",
    "        print status\n",
    "else:\n",
    "    print(\"Already cached, to reload run with 'reload' as the only argument\")"
   ]
  },
  {
   "cell_type": "code",
   "execution_count": null,
   "metadata": {},
   "outputs": [],
   "source": [
    "import cPickle as pickle\n",
    "with open('./digit_bgplvm_demo.pickle', 'rb') as f:\n",
    "    m = pickle.load(f)"
   ]
  },
  {
   "cell_type": "markdown",
   "metadata": {},
   "source": [
    "Prepare for plotting of this model. If you run on a webserver the\n",
    "interactive plotting will not work. Thus, you can skip to the next\n",
    "codeblock and run it on your own machine, later."
   ]
  },
  {
   "cell_type": "code",
   "execution_count": null,
   "metadata": {},
   "outputs": [],
   "source": [
    "fig = pb.figure('Latent Space & Scales', figsize=(16,6))\n",
    "ax_latent = fig.add_subplot(121)\n",
    "ax_scales = fig.add_subplot(122)\n",
    "\n",
    "fig_out = pb.figure('Output', figsize=(1,1))\n",
    "ax_image  = fig_out.add_subplot(111)\n",
    "fig_out.tight_layout(pad=0)\n",
    "\n",
    "data_show = GPy.plotting.matplot_dep.visualize.image_show(m.Y[0:1, :], dimensions=(16, 16), transpose=0, invert=0, scale=False, axes=ax_image)\n",
    "lvm_visualizer = GPy.plotting.matplot_dep.visualize.lvm_dimselect(m.X.mean.copy(), m, data_show, ax_latent, ax_scales, labels=labels.flatten())"
   ]
  },
  {
   "cell_type": "markdown",
   "metadata": {},
   "source": [
    "### Observations\n",
    "\n",
    "Confirm the following observations by interacting with the demo:\n",
    "\n",
    "-   We tend to obtain more “strange” outputs when sampling from latent\n",
    "    space areas away from the training inputs.\n",
    "-   When sampling from the two dominant latent dimensions (the ones\n",
    "    corresponding to large scales) we differentiate between all digits.\n",
    "    Also note that projecting the latent space into the two dominant\n",
    "    dimensions better separates the classes.\n",
    "-   When sampling from less dominant latent dimensions the outputs vary\n",
    "    in a more subtle way.\n",
    "\n",
    "You can also run the dimensionality reduction example"
   ]
  },
  {
   "cell_type": "code",
   "execution_count": null,
   "metadata": {},
   "outputs": [],
   "source": [
    "GPy.examples.dimensionality_reduction.bgplvm_simulation()"
   ]
  },
  {
   "cell_type": "markdown",
   "metadata": {},
   "source": [
    "### Questions\n",
    "\n",
    "-   Can you see a difference in the ARD parameters to the non Bayesian\n",
    "    GPLVM?\n",
    "-   How does the Bayesian GPLVM allow the ARD parameters of the RBF\n",
    "    kernel magnify the two first dimensions?\n",
    "-   Is Bayesian GPLVM better in differentiating between different kinds\n",
    "    of digits?\n",
    "-   Why does the starting noise variance have to be lower then the\n",
    "    variance of the observed values?\n",
    "-   How come we use the lowest variance when using a linear kernel, but\n",
    "    the highest lengtscale when using an RBF kernel?"
   ]
  },
  {
   "cell_type": "markdown",
   "metadata": {},
   "source": [
    "Data for Blastocyst Development in Mice: Single Cell TaqMan Arrays\n",
    "------------------------------------------------------------------\n",
    "\n",
    "By Max Zwiessele, Oliver Stegle and Neil D. Lawrence\n",
    "\n",
    "Now we use the GP-LVM to analyze some single cell data from Guo et al.\n",
    "(2010). Tey performed qPCR TaqMan array on single cells from the\n",
    "developing blastocyst in mouse. The data is taken from the early stages\n",
    "of development when the Blastocyst is forming. At the 32 cell stage the\n",
    "data is already separated into the trophectoderm (TE) which goes onto\n",
    "form the placenta and the inner cellular mass (ICM). The ICM further\n",
    "differentiates into the epiblast (EPI)—which gives rise to the endoderm,\n",
    "mesoderm and ectoderm—and the primitive endoderm (PE) which develops\n",
    "into the amniotic sack. Guo et al. (2010) selected 48 genes for\n",
    "expression measurement. They labelled the resulting cells and their\n",
    "labels are included as an aide to visualization.\n",
    "\n",
    "They first visualized their data using principal component analysis. In\n",
    "the first two principal components this fails to separate the domains.\n",
    "This is perhaps because the principal components are dominated by the\n",
    "variation in the 64 cell systems. This in turn may be because there are\n",
    "more cells from the data set in that regime, and may be because the\n",
    "natural variation is greater. We first recreate their visualization\n",
    "using principal component analysis.\n",
    "\n",
    "In this notebook we will perform PCA on the original data, showing that\n",
    "the different regimes do not separate.\n",
    "\n",
    "Next we load in the data. We’ve provided a convenience function for\n",
    "loading in the data with GPy. It is loaded in as a `pandas` DataFrame.\n",
    "This allows us to summarize it with the `describe` attribute."
   ]
  },
  {
   "cell_type": "code",
   "execution_count": 10,
   "metadata": {},
   "outputs": [],
   "source": [
    "import pods"
   ]
  },
  {
   "cell_type": "code",
   "execution_count": 11,
   "metadata": {},
   "outputs": [
    {
     "data": {
      "text/plain": [
       "<bound method NDFrame.describe of            Actb      Ahcy      Aqp3    Atp12a      Bmp4      Cdx2   Creb312  \\\n",
       "1      0.541050 -1.203007  1.030746  1.064808  0.494782 -0.167143 -1.369092   \n",
       "1      0.680832 -1.355306  2.456375  1.234350  0.645494  1.003868 -1.207595   \n",
       "1      1.056038 -1.280447  2.046133  1.439795  0.828121  0.983404 -1.460032   \n",
       "1      0.732331 -1.326911  2.464234  1.244323  0.654359  0.947023 -1.265609   \n",
       "1      0.629333 -1.244308  1.316815  1.304162  0.707552  1.429070 -0.895578   \n",
       "...         ...       ...       ...       ...       ...       ...       ...   \n",
       "64 TE -0.981846  0.652971 -0.376022 -1.414495  0.372440 -0.978892 -0.636869   \n",
       "64 TE -1.298196  0.980800 -0.767402 -1.408511  0.551521 -0.644643  0.926355   \n",
       "64 TE -0.716994  0.787200  0.020074  1.226372  0.638402 -0.806083  1.003183   \n",
       "64 TE -1.003917  1.522880 -0.289572 -1.532177  0.246551 -0.603714  0.656671   \n",
       "64 TE -0.525713  1.731967 -0.099383 -1.079400  0.319247 -0.928868  0.720956   \n",
       "\n",
       "          Cebpa      Dab2     DppaI  ...      Sox2     Sall4     Sox17  \\\n",
       "1      1.083061  0.668057 -1.553758  ... -1.351757 -1.793476  0.783185   \n",
       "1      1.208023  0.800388 -1.435306  ... -1.363533 -1.782172  1.532477   \n",
       "1      1.359447  0.530701 -1.340283  ... -1.296802 -1.567402  3.194157   \n",
       "1      1.215373  0.765212 -1.431401  ... -1.684100 -1.915556  2.962515   \n",
       "1     -0.007785  0.644606 -1.381937  ... -1.304653 -1.761825  1.265379   \n",
       "...         ...       ...       ...  ...       ...       ...       ...   \n",
       "64 TE -0.856056 -0.767485 -1.365015  ...  1.112031  0.618734 -0.344299   \n",
       "64 TE -0.478230 -0.739008 -1.428797  ...  0.385848  1.068621  1.203923   \n",
       "64 TE -1.200070 -0.506173 -1.331172  ...  0.185657  0.686556  0.175714   \n",
       "64 TE  0.877241 -0.940018 -1.345490  ...  0.911840  1.226873  1.071556   \n",
       "64 TE -0.638475 -0.626778 -1.479563  ...  0.347904  1.161312 -0.448302   \n",
       "\n",
       "          Snail     Sox13   Tcfap2a   Tcfap2c     Tcf23      Utf1    Tspan8  \n",
       "1     -1.408063 -0.031991 -0.351257 -1.078982  0.942981  1.348892 -1.051999  \n",
       "1     -1.361172 -0.501715  1.082362 -0.930112  1.064399  1.469397 -0.996275  \n",
       "1     -1.301777 -0.445219  0.031284 -1.005767  1.211529  1.615421 -0.651393  \n",
       "1     -1.349710  1.875957  1.699892 -1.059458  1.071541  1.476485 -0.699586  \n",
       "1     -1.320533 -0.609864  0.413826 -0.888624  1.114394  1.519017 -0.798985  \n",
       "...         ...       ...       ...       ...       ...       ...       ...  \n",
       "64 TE  0.952105 -0.272503 -1.453339  0.299896  0.844418  1.251070 -1.276398  \n",
       "64 TE  1.057349 -0.064275 -1.068977  0.966150  0.988691  1.394258 -1.154409  \n",
       "64 TE  1.108408 -0.262818 -0.877706  0.270610  1.058685  1.463726 -1.170975  \n",
       "64 TE  0.878122 -0.038448 -1.324004  0.731863  0.742998  1.150413 -1.160433  \n",
       "64 TE  0.920845  1.570879 -0.837630  0.260848  0.801565  1.208539 -1.219169  \n",
       "\n",
       "[437 rows x 48 columns]>"
      ]
     },
     "execution_count": 11,
     "metadata": {},
     "output_type": "execute_result"
    }
   ],
   "source": [
    "data = pods.datasets.singlecell()\n",
    "Y = data['Y']\n",
    "Y.describe"
   ]
  },
  {
   "cell_type": "markdown",
   "metadata": {},
   "source": [
    "Principal Component Analysis\n",
    "----------------------------\n",
    "\n",
    "Now we follow Guo et al. (2010) in performing PCA on the data. Rather\n",
    "than calling a ‘PCA routine’, here we break the algorithm down into its\n",
    "steps: compute the data covariance, compute the eigenvalues and\n",
    "eigenvectors and sort according to magnitude of eigenvalue. Because we\n",
    "want to visualize the data, we’ve chose to compute the eigenvectors of\n",
    "the *inner product matrix* rather than the covariance matrix. This\n",
    "allows us to plot the eigenvalues directly. However, this is less\n",
    "efficient (in this case because the number of genes is smaller than the\n",
    "number of data) than computing the eigendecomposition of the covariance\n",
    "matrix."
   ]
  },
  {
   "cell_type": "code",
   "execution_count": 12,
   "metadata": {},
   "outputs": [],
   "source": [
    "import numpy as np"
   ]
  },
  {
   "cell_type": "code",
   "execution_count": 13,
   "metadata": {},
   "outputs": [],
   "source": [
    "# obtain a centred version of data.\n",
    "centredY = Y - Y.mean()\n",
    "# compute inner product matrix\n",
    "C = np.dot(centredY,centredY.T)\n",
    "# perform eigendecomposition\n",
    "V, U = np.linalg.eig(C)\n",
    "# sort eigenvalues and vectors according to size\n",
    "ind = V.argsort()\n",
    "ev = V[ind[::-1]]\n",
    "U = U[:, ind[::-1]]"
   ]
  },
  {
   "cell_type": "markdown",
   "metadata": {},
   "source": [
    "To visualize the result, we now construct a simple helper function. This\n",
    "will ensure that the plots have the same legends as the GP-LVM plots we\n",
    "use below."
   ]
  },
  {
   "cell_type": "code",
   "execution_count": 14,
   "metadata": {},
   "outputs": [],
   "source": [
    "import GPy\n",
    "import matplotlib.pyplot as plt"
   ]
  },
  {
   "cell_type": "code",
   "execution_count": 23,
   "metadata": {},
   "outputs": [],
   "source": [
    "def plot_labels(ax, x, y, labels, symbols):\n",
    "    \"\"\"A small helper function for plotting with labels\"\"\"\n",
    "    #GPy.plotting.matplot_dep.Tango.reset() \n",
    "    # make sure labels are in order of input:\n",
    "    ulabels = []\n",
    "    for lab in labels:\n",
    "        if not lab in ulabels:\n",
    "            ulabels.append(lab)\n",
    "    for i, label in enumerate(ulabels):\n",
    "        symbol = symbols[i % len(symbols)]\n",
    "        ind = labels == label\n",
    "        ax.plot(x[ind], y[ind], symbol)#, color=GPy.plotting.matplot_dep.Tango.nextMedium())\n",
    "    ax.legend(ulabels)"
   ]
  },
  {
   "cell_type": "markdown",
   "metadata": {},
   "source": [
    "PCA Result\n",
    "----------\n",
    "\n",
    "Now, using the helper function we can plot the results with appropriate\n",
    "labels."
   ]
  },
  {
   "cell_type": "code",
   "execution_count": 39,
   "metadata": {},
   "outputs": [],
   "source": [
    "import matplotlib.pyplot as plt\n",
    "import teaching_plots as plot\n",
    "import mlai"
   ]
  },
  {
   "cell_type": "code",
   "execution_count": 40,
   "metadata": {},
   "outputs": [
    {
     "name": "stderr",
     "output_type": "stream",
     "text": [
      " /Users/neil/anaconda3/lib/python3.6/site-packages/numpy/core/_asarray.py:85: ComplexWarning:Casting complex values to real discards the imaginary part\n",
      " /Users/neil/anaconda3/lib/python3.6/site-packages/numpy/core/_asarray.py:85: ComplexWarning:Casting complex values to real discards the imaginary part\n",
      " /Users/neil/anaconda3/lib/python3.6/site-packages/numpy/core/_asarray.py:85: ComplexWarning:Casting complex values to real discards the imaginary part\n",
      " /Users/neil/anaconda3/lib/python3.6/site-packages/numpy/core/_asarray.py:85: ComplexWarning:Casting complex values to real discards the imaginary part\n",
      " /Users/neil/anaconda3/lib/python3.6/site-packages/numpy/core/_asarray.py:85: ComplexWarning:Casting complex values to real discards the imaginary part\n",
      " /Users/neil/anaconda3/lib/python3.6/site-packages/numpy/core/_asarray.py:85: ComplexWarning:Casting complex values to real discards the imaginary part\n",
      " /Users/neil/anaconda3/lib/python3.6/site-packages/numpy/core/_asarray.py:85: ComplexWarning:Casting complex values to real discards the imaginary part\n",
      " /Users/neil/anaconda3/lib/python3.6/site-packages/numpy/core/_asarray.py:85: ComplexWarning:Casting complex values to real discards the imaginary part\n",
      " /Users/neil/anaconda3/lib/python3.6/site-packages/numpy/core/_asarray.py:85: ComplexWarning:Casting complex values to real discards the imaginary part\n",
      " /Users/neil/anaconda3/lib/python3.6/site-packages/numpy/core/_asarray.py:85: ComplexWarning:Casting complex values to real discards the imaginary part\n"
     ]
    },
    {
     "data": {
      "image/png": "[encoded data removed]",
      "text/plain": [
       "<Figure size 504x504 with 1 Axes>"
      ]
     },
     "metadata": {
      "needs_background": "light"
     },
     "output_type": "display_data"
    }
   ],
   "source": [
    "fig, ax = plt.subplots(figsize=plot.big_figsize)\n",
    "plot_labels(ax, U[:, 0], U[:, 1], data['labels'], '<>^vsd')\n",
    "\n",
    "mlai.write_figure('singlecell-data-pca.svg', directory='./datasets')"
   ]
  },
  {
   "cell_type": "markdown",
   "metadata": {},
   "source": [
    "<img src=\"http://inverseprobability.com/talks/slides/../slides/diagrams/datasets/singlecell-data-pca.svg.svg\" class=\"\" width=\"60%\" style=\"vertical-align:middle;\">\n",
    "\n",
    "Figure: <i>First two principal compoents of the Guo et al. (2010)\n",
    "blastocyst development data.</i>"
   ]
  },
  {
   "cell_type": "markdown",
   "metadata": {},
   "source": [
    "GP-LVM on the Data\n",
    "------------------\n",
    "\n",
    "Then, we follow Buettner and Theis (2012) in applying the GP-LVM to the\n",
    "data. There is a slight pathology in the result, one which they fixed by\n",
    "using priors that were dependent on the developmental stage. We then\n",
    "show how the Bayesian GP-LVM doesn’t exhibit those pathologies and gives\n",
    "a nice results that seems to show the lineage of the cells.\n",
    "\n",
    "They used modified prior to ensure that small differences between cells\n",
    "at the same differential stage were preserved. Here we apply a standard\n",
    "GP-LVM (no modified prior) to the data."
   ]
  },
  {
   "cell_type": "code",
   "execution_count": 41,
   "metadata": {},
   "outputs": [],
   "source": [
    "import GPy"
   ]
  },
  {
   "cell_type": "code",
   "execution_count": 42,
   "metadata": {},
   "outputs": [
    {
     "data": {
      "application/vnd.jupyter.widget-view+json": {
       "model_id": "f9c28c63404640f9aebf13c956c51215",
       "version_major": 2,
       "version_minor": 0
      },
      "text/plain": [
       "HBox(children=(VBox(children=(IntProgress(value=0, max=1000), HTML(value=''))), Box(children=(HTML(value=''),)…"
      ]
     },
     "metadata": {},
     "output_type": "display_data"
    },
    {
     "data": {
      "text/plain": [
       "<paramz.optimization.optimization.opt_lbfgsb at 0x1213769e8>"
      ]
     },
     "execution_count": 42,
     "metadata": {},
     "output_type": "execute_result"
    }
   ],
   "source": [
    "kernel=GPy.kern.RBF(2)+GPy.kern.Bias(2)\n",
    "model = GPy.models.GPLVM(Y.values, 2, kernel=kernel)\n",
    "model.optimize(messages=True)"
   ]
  },
  {
   "cell_type": "code",
   "execution_count": 43,
   "metadata": {},
   "outputs": [],
   "source": [
    "import matplotlib.pyplot as plt\n",
    "import teaching_plots as plot\n",
    "import mlai"
   ]
  },
  {
   "cell_type": "code",
   "execution_count": 45,
   "metadata": {},
   "outputs": [
    {
     "data": {
      "image/png": "[encoded data removed]",
      "text/plain": [
       "<Figure size 504x504 with 2 Axes>"
      ]
     },
     "metadata": {
      "needs_background": "light"
     },
     "output_type": "display_data"
    }
   ],
   "source": [
    "fig, ax = plt.subplots(figsize=plot.big_figsize)\n",
    "model.plot_latent(ax=ax, labels=data['labels'], marker='<>^vsd')\n",
    "\n",
    "mlai.write_figure('singlecell-gplvm.svg', directory='./gplvm')"
   ]
  },
  {
   "cell_type": "markdown",
   "metadata": {},
   "source": [
    "<img src=\"http://inverseprobability.com/talks/slides/../slides/diagrams/datasets/singlecell-gplvm.svg\" class=\"\" width=\"60%\" style=\"vertical-align:middle;\">\n",
    "\n",
    "Figure: <i>Visualisation of the Guo et al. (2010) blastocyst development\n",
    "data with the GP-LVM.</i>"
   ]
  },
  {
   "cell_type": "code",
   "execution_count": 47,
   "metadata": {},
   "outputs": [
    {
     "data": {
      "image/png": "[encoded data removed]",
      "text/plain": [
       "<Figure size 720x432 with 1 Axes>"
      ]
     },
     "metadata": {
      "needs_background": "light"
     },
     "output_type": "display_data"
    }
   ],
   "source": [
    "fig, ax = plt.subplots(figsize=plot.big_wide_figsize)\n",
    "model.kern.plot_ARD(ax=ax)\n",
    "\n",
    "mlai.write_figure('singlecell-gplvm-ard.svg', directory='./gplvm')"
   ]
  },
  {
   "cell_type": "markdown",
   "metadata": {},
   "source": [
    "<img src=\"http://inverseprobability.com/talks/slides/../slides/diagrams/datasets/singlecell-gplvm-ard.svg\" class=\"\" width=\"80%\" style=\"vertical-align:middle;\">\n",
    "\n",
    "Figure: <i>The ARD parameters of the GP-LVM for the Guo et al. (2010)\n",
    "blastocyst development data.</i>"
   ]
  },
  {
   "cell_type": "markdown",
   "metadata": {},
   "source": [
    "Bayesian GP-LVM\n",
    "---------------\n",
    "\n",
    "Finally we show the new code that uses the Bayesian GP-LVM to fit the\n",
    "data. This means we can automatically determine the dimensionality of\n",
    "the model whilst fitting a non-linear dimensionality reduction. The\n",
    "approximations we use also mean that it is faster than the original\n",
    "GP-LVM."
   ]
  },
  {
   "cell_type": "code",
   "execution_count": 48,
   "metadata": {},
   "outputs": [],
   "source": [
    "import GPy"
   ]
  },
  {
   "cell_type": "code",
   "execution_count": 49,
   "metadata": {},
   "outputs": [
    {
     "data": {
      "application/vnd.jupyter.widget-view+json": {
       "model_id": "c7b0aa10396c4413bf8925924b579896",
       "version_major": 2,
       "version_minor": 0
      },
      "text/plain": [
       "HBox(children=(VBox(children=(IntProgress(value=0, max=1000), HTML(value=''))), Box(children=(HTML(value=''),)…"
      ]
     },
     "metadata": {},
     "output_type": "display_data"
    },
    {
     "data": {
      "text/plain": [
       "<paramz.optimization.optimization.opt_lbfgsb at 0x10cb0fc50>"
      ]
     },
     "execution_count": 49,
     "metadata": {},
     "output_type": "execute_result"
    }
   ],
   "source": [
    "kernel=GPy.kern.RBF(5,ARD=1)+GPy.kern.Bias(5)\n",
    "model = GPy.models.BayesianGPLVM(Y.values, 5, num_inducing=15, kernel=kernel)\n",
    "model.optimize(messages=True)"
   ]
  },
  {
   "cell_type": "code",
   "execution_count": 50,
   "metadata": {},
   "outputs": [],
   "source": [
    "import matplotlib.pyplot as plt\n",
    "import teaching_plots as plot\n",
    "import mlai"
   ]
  },
  {
   "cell_type": "code",
   "execution_count": 51,
   "metadata": {},
   "outputs": [
    {
     "data": {
      "image/png": "[encoded data removed]",
      "text/plain": [
       "<Figure size 504x504 with 2 Axes>"
      ]
     },
     "metadata": {
      "needs_background": "light"
     },
     "output_type": "display_data"
    }
   ],
   "source": [
    "fig, ax = plt.subplots(figsize=plot.big_figsize)\n",
    "model.plot_latent(ax=ax, labels=data['labels'], marker='<>^vsd')\n",
    "\n",
    "mlai.write_figure('singlecell-bayes-gplvm.svg', directory='./gplvm')"
   ]
  },
  {
   "cell_type": "markdown",
   "metadata": {},
   "source": [
    "<img src=\"http://inverseprobability.com/talks/slides/../slides/diagrams/datasets/singlecell-bayes-gplvm.svg\" class=\"\" width=\"60%\" style=\"vertical-align:middle;\">\n",
    "\n",
    "Figure: <i>Visualisation of the Guo et al. (2010) blastocyst development\n",
    "data with the Bayesian GP-LVM.</i>"
   ]
  },
  {
   "cell_type": "code",
   "execution_count": 52,
   "metadata": {},
   "outputs": [
    {
     "data": {
      "image/png": "[encoded data removed]",
      "text/plain": [
       "<Figure size 720x432 with 1 Axes>"
      ]
     },
     "metadata": {
      "needs_background": "light"
     },
     "output_type": "display_data"
    }
   ],
   "source": [
    "fig, ax = plt.subplots(figsize=plot.big_wide_figsize)\n",
    "model.kern.plot_ARD(ax=ax)\n",
    "\n",
    "mlai.write_figure('singlecell-bayes-gplvm-ard.svg', directory='./gplvm')"
   ]
  },
  {
   "cell_type": "markdown",
   "metadata": {},
   "source": [
    "<img src=\"http://inverseprobability.com/talks/slides/../slides/diagrams/datasets/singlecell-bayes-gplvm-ard.svg\" class=\"\" width=\"80%\" style=\"vertical-align:middle;\">\n",
    "\n",
    "Figure: <i>The ARD parameters of the Bayesian GP-LVM for the Guo et al.\n",
    "(2010) blastocyst development data.</i>\n",
    "\n",
    "This gives a really nice result. Broadly speaking two latent dimensions\n",
    "dominate the representation. When we visualize using these two\n",
    "dimensions we can see the entire cell phylogeny laid out nicely in the\n",
    "two dimensions."
   ]
  },
  {
   "cell_type": "markdown",
   "metadata": {},
   "source": [
    "Thanks!\n",
    "-------\n",
    "\n",
    "For more information on these subjects and more you might want to check\n",
    "the following resources.\n",
    "\n",
    "-   twitter: [@lawrennd](https://twitter.com/lawrennd)\n",
    "-   podcast: [The Talking Machines](http://thetalkingmachines.com)\n",
    "-   newspaper: [Guardian Profile\n",
    "    Page](http://www.theguardian.com/profile/neil-lawrence)\n",
    "-   blog:\n",
    "    [http://inverseprobability.com](http://inverseprobability.com/blog.html)"
   ]
  },
  {
   "cell_type": "markdown",
   "metadata": {},
   "source": [
    "References\n",
    "----------"
   ]
  },
  {
   "cell_type": "markdown",
   "metadata": {},
   "source": [
    "Buettner, F., Theis, F.J., 2012. A novel approach for resolving\n",
    "differences in single-cell gene expression patterns from zygote to\n",
    "blastocyst. Bioinformatics 28, i626–i632.\n",
    "<https://doi.org/10.1093/bioinformatics/bts385>\n",
    "\n",
    "Damianou, A., 2015. Deep Gaussian processes and variational propagation\n",
    "of uncertainty (PhD thesis). University of Sheffield.\n",
    "\n",
    "Damianou, A., Titsias, M.K., Lawrence, N.D., 2016. Variational inference\n",
    "for latent variables and uncertain inputs in Gaussian processes. Journal\n",
    "of Machine Learning Research 17.\n",
    "\n",
    "de Campos, T.E., Babu, B.R., Varma, M., 2009. Character recognition in\n",
    "natural images, in: Proceedings of the Fourth International Conference\n",
    "on Computer Vision Theory and Applications - Volume 2: VISAPP,\n",
    "(Visigrapp 2009). INSTICC; SciTePress, pp. 273–280.\n",
    "<https://doi.org/10.5220/0001770102730280>\n",
    "\n",
    "Ek, C.H., Rihan, J., Torr, P.H.S., Rogez, G., Lawrence, N.D., 2008.\n",
    "Ambiguity modeling in latent spaces, in: Popescu-Belis, A.,\n",
    "Stiefelhagen, R. (Eds.), Machine Learning for Multimodal Interaction\n",
    "(Mlmi 2008), LNCS. Springer-Verlag, pp. 62–73.\n",
    "\n",
    "Ek, C.H., Torr, P.H.S., Lawrence, N.D., 2008. Gaussian process latent\n",
    "variable models for human pose estimation, in: Popescu-Belis, A.,\n",
    "Renals, S., Bourlard, H. (Eds.), Machine Learning for Multimodal\n",
    "Interaction (Mlmi 2007), LNCS. Springer-Verlag, Brno, Czech Republic,\n",
    "pp. 132–143. <https://doi.org/10.1007/978-3-540-78155-4_12>\n",
    "\n",
    "Guo, G., Huss, M., Tong, G.Q., Wang, C., Sun, L.L., Clarke, N.D.,\n",
    "Robsonemail, P., 2010. Resolution of cell fate decisions revealed by\n",
    "single-cell gene expression analysis from zygote to blastocyst.\n",
    "Developmental Cell 18, 675–685.\n",
    "<https://doi.org/10.1016/j.devcel.2010.02.012>\n",
    "\n",
    "Klami, A., Kaski, S., n.d. Local dependent components analysis, in:.\n",
    "\n",
    "Klami, A., Kaski, S., 2008. Probabilistic approach to detecting\n",
    "dependencies between data sets. Neurocomputing 72, 39–46.\n",
    "\n",
    "Leen, G., Fyfe, C., 2006. A Gaussian process latent variable model\n",
    "formulation of canonical correlation analysis, in:. Bruges (Belgium).\n",
    "\n",
    "Navaratnam, R., Fitzgibbon, A., Cipolla, R., 2007. The joint manifold\n",
    "model for semi-supervised multi-valued regression, in: IEEE\n",
    "International Conference on Computer Vision (Iccv). IEEE Computer\n",
    "Society Press.\n",
    "\n",
    "Salimbeni, H., Deisenroth, M., 2017. Doubly stochastic variational\n",
    "inference for deep Gaussian processes, in: Guyon, I., Luxburg, U.V.,\n",
    "Bengio, S., Wallach, H., Fergus, R., Vishwanathan, S., Garnett, R.\n",
    "(Eds.), Advances in Neural Information Processing Systems 30. Curran\n",
    "Associates, Inc., pp. 4591–4602.\n",
    "\n",
    "Shon, A.P., Grochow, K., Hertzmann, A., Rao, R.P.N., n.d. Learning\n",
    "shared latent structure for image synthesis and robotic imitation, in:.\n",
    "\n",
    "Titsias, M.K., Lawrence, N.D., 2010. Bayesian Gaussian process latent\n",
    "variable model, in:. pp. 844–851.\n",
    "\n",
    "Tucker, L.R., 1958. An inter-battery method of factor analysis.\n",
    "Psychometrika 23, 111–136.\n",
    "\n",
    "Virtanen, S., Klami, A., Kaski, S., n.d. Bayesian CCA via group\n",
    "sparsity, in:."
   ]
  }
 ],
 "metadata": {
  "kernelspec": {
   "display_name": "Python 3",
   "language": "python",
   "name": "python3"
  },
  "language_info": {
   "codemirror_mode": {
    "name": "ipython",
    "version": 3
   },
   "file_extension": ".py",
   "mimetype": "text/x-python",
   "name": "python",
   "nbconvert_exporter": "python",
   "pygments_lexer": "ipython3",
   "version": "3.6.10"
  }
 },
 "nbformat": 4,
 "nbformat_minor": 5
}
